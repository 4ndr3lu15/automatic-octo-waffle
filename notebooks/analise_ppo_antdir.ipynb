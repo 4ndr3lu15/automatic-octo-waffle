{
  "nbformat": 4,
  "nbformat_minor": 0,
  "metadata": {
    "colab": {
      "provenance": [],
      "authorship_tag": "ABX9TyPQAnN3b2qN+Enpq6e356sT",
      "include_colab_link": true
    },
    "kernelspec": {
      "name": "python3",
      "display_name": "Python 3"
    },
    "language_info": {
      "name": "python"
    }
  },
  "cells": [
    {
      "cell_type": "markdown",
      "metadata": {
        "id": "view-in-github",
        "colab_type": "text"
      },
      "source": [
        "<a href=\"https://colab.research.google.com/github/4ndr3lu15/automatic-octo-waffle/blob/main/notebooks/analise_ppo_antdir.ipynb\" target=\"_parent\"><img src=\"https://colab.research.google.com/assets/colab-badge.svg\" alt=\"Open In Colab\"/></a>"
      ]
    },
    {
      "cell_type": "code",
      "execution_count": 1,
      "metadata": {
        "id": "S4lg2x1YqRlX"
      },
      "outputs": [],
      "source": [
        "teste = \"teste\""
      ]
    },
    {
      "cell_type": "code",
      "source": [
        "if teste:\n",
        "    print(teste)"
      ],
      "metadata": {
        "id": "7b7NXWEhgLlh"
      },
      "execution_count": null,
      "outputs": []
    }
  ]
}